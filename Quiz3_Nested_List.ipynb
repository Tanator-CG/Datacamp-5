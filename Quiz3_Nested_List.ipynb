{
 "cells": [
  {
   "cell_type": "code",
   "execution_count": 5,
   "metadata": {},
   "outputs": [
    {
     "data": {
      "text/plain": [
       "6"
      ]
     },
     "execution_count": 5,
     "metadata": {},
     "output_type": "execute_result"
    }
   ],
   "source": [
    "a =[[[1,3],[3,4]],[5,[5,6],[7,8]]]\n",
    "a[1][1][1]"
   ]
  },
  {
   "cell_type": "code",
   "execution_count": 22,
   "metadata": {},
   "outputs": [],
   "source": [
    "name1 = ['Tanatorn', 'Choochartpong',['183','92']]\n",
    "name2 = ['Seto', 'Kaiba',['180', '70']]\n",
    "name3 = ['Espa', 'Roba', ['165', '50']]\n",
    "name4 = ['Yami', 'Yuki',['173','55']]"
   ]
  },
  {
   "cell_type": "code",
   "execution_count": 23,
   "metadata": {},
   "outputs": [],
   "source": [
    "name_all = [name1,name2,name3,name4]\n",
    "del name_all[3]"
   ]
  },
  {
   "cell_type": "code",
   "execution_count": 24,
   "metadata": {},
   "outputs": [],
   "source": [
    "name5 = ['Suphattra', 'Mueart', ['161', '62']]"
   ]
  },
  {
   "cell_type": "code",
   "execution_count": 25,
   "metadata": {},
   "outputs": [
    {
     "name": "stdout",
     "output_type": "stream",
     "text": [
      "[['Tanatorn', 'Choochartpong', ['183', '92']], ['Seto', 'Kaiba', ['180', '70']], ['Espa', 'Roba', ['165', '50']], ['Suphattra', 'Mueart', ['161', '62']]]\n"
     ]
    }
   ],
   "source": [
    "name_all.append(name5)\n",
    "print(name_all)"
   ]
  },
  {
   "cell_type": "code",
   "execution_count": 27,
   "metadata": {},
   "outputs": [
    {
     "name": "stdout",
     "output_type": "stream",
     "text": [
      "[['Tanatorn', 'Choochartpong', ['183', '92']], ['Seto', 'Kaiba', ['180', 80]], ['Espa', 'Roba', ['165', '50']], ['Suphattra', 'Mueart', ['161', '62']]]\n"
     ]
    }
   ],
   "source": [
    "name_all[1][2][1] = int(name_all[1][2][1])+10\n",
    "print(name_all)"
   ]
  }
 ],
 "metadata": {
  "kernelspec": {
   "display_name": "Python 3",
   "language": "python",
   "name": "python3"
  },
  "language_info": {
   "codemirror_mode": {
    "name": "ipython",
    "version": 3
   },
   "file_extension": ".py",
   "mimetype": "text/x-python",
   "name": "python",
   "nbconvert_exporter": "python",
   "pygments_lexer": "ipython3",
   "version": "3.7.4"
  }
 },
 "nbformat": 4,
 "nbformat_minor": 2
}
