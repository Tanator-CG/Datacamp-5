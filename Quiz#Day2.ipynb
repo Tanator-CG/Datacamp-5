{
 "cells": [
  {
   "cell_type": "code",
   "execution_count": 1,
   "metadata": {},
   "outputs": [
    {
     "name": "stdout",
     "output_type": "stream",
     "text": [
      "6\n",
      "is even\n"
     ]
    }
   ],
   "source": [
    "#Quiz_1\n",
    "a = int(input())\n",
    "if a%2 == 0 : \n",
    "    print('is even')\n",
    "elif a == 0 : \n",
    "    print('is zero')\n",
    "else : \n",
    "    print('is not even')"
   ]
  },
  {
   "cell_type": "code",
   "execution_count": 2,
   "metadata": {},
   "outputs": [
    {
     "name": "stdout",
     "output_type": "stream",
     "text": [
      "4\n",
      "0\n",
      "0\n",
      "5\n",
      "0.8\n"
     ]
    }
   ],
   "source": [
    "#Quiz_2\n",
    "x = float(input())\n",
    "y = float(input())\n",
    "while y == 0:\n",
    "    y = float(input())\n",
    "else:\n",
    "    print(x/y)"
   ]
  },
  {
   "cell_type": "code",
   "execution_count": 1,
   "metadata": {},
   "outputs": [
    {
     "name": "stdout",
     "output_type": "stream",
     "text": [
      "20\n",
      "30\n",
      "40\n",
      "50\n",
      "0\n",
      "140\n",
      "35.0\n"
     ]
    }
   ],
   "source": [
    "#Quiz_3\n",
    "a = 0\n",
    "x = 0\n",
    "count = 0\n",
    "b = 1\n",
    "while b:\n",
    "    x = int(input())\n",
    "    if x == 0:\n",
    "        break\n",
    "    a = a+x\n",
    "    count+=1\n",
    "print(a)\n",
    "a = a/count\n",
    "print(a)\n",
    "    "
   ]
  },
  {
   "cell_type": "code",
   "execution_count": 2,
   "metadata": {},
   "outputs": [
    {
     "name": "stdout",
     "output_type": "stream",
     "text": [
      "7\n",
      "หารด้วย 7 ลงตัว\n"
     ]
    }
   ],
   "source": [
    "#Quiz_4\n",
    "a = int(input())\n",
    "if a%7 == 0:\n",
    "    print('หารด้วย 7 ลงตัว')\n",
    "else:\n",
    "    print('หารด้วย 7 ไม่ลงตัว')"
   ]
  },
  {
   "cell_type": "code",
   "execution_count": 8,
   "metadata": {},
   "outputs": [
    {
     "name": "stdout",
     "output_type": "stream",
     "text": [
      "3\n",
      "4\n",
      "5\n",
      "สามารถทำเป็นสามเหลี่ยมมุฉากได้\n"
     ]
    }
   ],
   "source": [
    "#### Quiz_5\n",
    "a = int(input())\n",
    "b = int(input())\n",
    "c = int(input())\n",
    "if (b^2)+(c^2) == (a^2) or \\\n",
    "   (b^2)+(a^2) == (c^2) or \\\n",
    "   (c^2)+(a^2) == (b^2):\n",
    "    print('สามารถทำเป็นสามเหลี่ยมมุฉากได้')\n",
    "else:\n",
    "    print('ทำเป็นสามเหลี่ยมมุมฉากไม่ได้')\n"
   ]
  },
  {
   "cell_type": "code",
   "execution_count": 26,
   "metadata": {},
   "outputs": [
    {
     "name": "stdout",
     "output_type": "stream",
     "text": [
      "ใส่ความยาวด้านของสามเหลี่ยมทั้ง 3 ด้าน\n",
      "#6\n",
      "#7\n",
      "#8\n",
      "สามเหลี่ยมมุมแหลม\n"
     ]
    }
   ],
   "source": [
    "#Quiz_6\n",
    "print(\"ใส่ความยาวด้านของสามเหลี่ยมทั้ง 3 ด้าน\")\n",
    "a = []\n",
    "validity = 1\n",
    "for i in range(0,3):\n",
    "    a.append(float(input('#')))\n",
    "a.sort()\n",
    "x = a[0]\n",
    "y = a[1]\n",
    "z = a[2]\n",
    "if x+y<z or y+z<x or z+x<y:\n",
    "    validity = 0\n",
    "    print('ไม่เป็นรูปสามเหลี่ยม')\n",
    "if validity:\n",
    "    if (x**2)+(y**2) == (z**2):\n",
    "        print('สามเหลี่ยมมุมฉาก')\n",
    "    elif (x**2)+(y**2) > (z**2):\n",
    "        print('สามเหลี่ยมมุมแหลม')\n",
    "    elif (x**2)+(y**2) < (z**2):\n",
    "        print('สามเหลี่ยมมุมป้าน')        "
   ]
  },
  {
   "cell_type": "code",
   "execution_count": 14,
   "metadata": {},
   "outputs": [],
   "source": [
    "a = int(input('#a :'))\n",
    "b = int(input('#b :'))\n",
    "c = int(input('#c :'))\n",
    "if b>c>a:"
   ]
  },
  {
   "cell_type": "code",
   "execution_count": 11,
   "metadata": {},
   "outputs": [
    {
     "name": "stdout",
     "output_type": "stream",
     "text": [
      "#1 3000\n",
      "#2 4000\n",
      "#3 5000\n",
      "12000\n",
      "15% discount\n",
      "Total price : 10200.0\n"
     ]
    }
   ],
   "source": [
    "#Quiz_7\n",
    "dinner1 = 0\n",
    "while dinner1 > 5000 or dinner1 < 1000:\n",
    "    dinner1 = int(input('#1 '))\n",
    "    \n",
    "dinner2 = 0\n",
    "while dinner2 > 5000 or dinner2 < 1000:\n",
    "    dinner2 = int(input('#2 '))\n",
    "    \n",
    "dinner3 = 0\n",
    "while dinner3 > 5000 or dinner3 < 1000:\n",
    "    dinner3 = int(input('#3 '))\n",
    "dinner_sum = dinner1 + dinner2 + dinner3\n",
    "print(dinner_sum)\n",
    "\n",
    "if dinner_sum > 12000:\n",
    "    print('25% discount')\n",
    "    dinner_sum = dinner_sum - (dinner_sum*0.25)\n",
    "elif dinner_sum > 6000:\n",
    "    print('15% discount')\n",
    "    dinner_sum = dinner_sum - (dinner_sum*0.15)\n",
    "print('Total price :',dinner_sum)\n",
    "\n",
    "\n",
    "    "
   ]
  },
  {
   "cell_type": "code",
   "execution_count": 12,
   "metadata": {},
   "outputs": [
    {
     "name": "stdout",
     "output_type": "stream",
     "text": [
      "#1 4000\n",
      "#2 4000\n",
      "#3 3000\n",
      "#4 5000\n",
      "16000\n",
      "25% discount\n",
      "Total price : 3750.0\n"
     ]
    }
   ],
   "source": [
    "#Quiz_8\n",
    "dinner1 = 0\n",
    "while dinner1 > 5000 or dinner1 < 1000:\n",
    "    dinner1 = int(input('#1 '))\n",
    "    \n",
    "dinner2 = 0\n",
    "while dinner2 > 5000 or dinner2 < 1000:\n",
    "    dinner2 = int(input('#2 '))\n",
    "    \n",
    "dinner3 = 0\n",
    "while dinner3 > 5000 or dinner3 < 1000:\n",
    "    dinner3 = int(input('#3 '))\n",
    "    \n",
    "dinner4 = 0\n",
    "while dinner4 > 5000 or dinner4 < 1000:\n",
    "    dinner4 = int(input('#4 '))\n",
    "    \n",
    "dinner_sum = dinner1 + dinner2 + dinner3\n",
    "print(dinner_sum)\n",
    "\n",
    "if dinner_sum > 12000:\n",
    "    print('25% discount')\n",
    "    dinner4_price = dinner4 - (dinner4*0.25)\n",
    "elif dinner_sum > 6000:\n",
    "    print('15% discount')\n",
    "    dinner4_price = dinner4 - (dinner4*0.15)\n",
    "print('Total price :',dinner4_price)\n",
    "\n",
    "\n",
    "    "
   ]
  },
  {
   "cell_type": "code",
   "execution_count": 14,
   "metadata": {},
   "outputs": [
    {
     "name": "stdout",
     "output_type": "stream",
     "text": [
      "#1 2000\n",
      "#2 3000\n",
      "#3 4000\n",
      "#4 5000\n",
      "9000\n",
      "25% discount\n",
      "Total price : 3750.0\n"
     ]
    }
   ],
   "source": [
    "#Quiz_9\n",
    "dinner1 = 0\n",
    "while dinner1 > 5000 or dinner1 < 1000:\n",
    "    dinner1 = int(input('#1 '))\n",
    "    \n",
    "dinner2 = 0\n",
    "while dinner2 > 5000 or dinner2 < 1000:\n",
    "    dinner2 = int(input('#2 '))\n",
    "    \n",
    "dinner3 = 0\n",
    "while dinner3 > 5000 or dinner3 < 1000:\n",
    "    dinner3 = int(input('#3 '))\n",
    "    \n",
    "dinner4 = 0\n",
    "while dinner4 > 5000 or dinner4 < 1000:\n",
    "    dinner4 = int(input('#4 '))\n",
    "    \n",
    "dinner_sum = dinner1 + dinner2 + dinner3\n",
    "print(dinner_sum)\n",
    "\n",
    "if dinner_sum > 9000:\n",
    "    print('30% discount')\n",
    "    dinner4_price = dinner4 - (dinner4*0.30)\n",
    "elif dinner_sum > 4000:\n",
    "    print('25% discount')\n",
    "    dinner4_price = dinner4 - (dinner4*0.25)\n",
    "print('Total price :',dinner4_price)"
   ]
  },
  {
   "cell_type": "code",
   "execution_count": 17,
   "metadata": {},
   "outputs": [
    {
     "name": "stdout",
     "output_type": "stream",
     "text": [
      "#1 3000\n",
      "#2 4000\n",
      "#3 3000\n",
      "#4 5000\n",
      "10000\n",
      "0|ไม่มี, 1|มี :1\n",
      "30% discount\n",
      "credir card discount 5%\n",
      "Total price : 3250.0\n"
     ]
    }
   ],
   "source": [
    "#Quiz_10\n",
    "dinner1 = 0\n",
    "while dinner1 > 5000 or dinner1 < 1000:\n",
    "    dinner1 = int(input('#1 '))\n",
    "    \n",
    "dinner2 = 0\n",
    "while dinner2 > 5000 or dinner2 < 1000:\n",
    "    dinner2 = int(input('#2 '))\n",
    "    \n",
    "dinner3 = 0\n",
    "while dinner3 > 5000 or dinner3 < 1000:\n",
    "    dinner3 = int(input('#3 '))\n",
    "    \n",
    "dinner4 = 0\n",
    "while dinner4 > 5000 or dinner4 < 1000:\n",
    "    dinner4 = int(input('#4 '))\n",
    "    \n",
    "dinner_sum = dinner1 + dinner2 + dinner3\n",
    "print(dinner_sum)\n",
    "\n",
    "discount = 0\n",
    "credit_card = bool(input('0|ไม่มี, 1|มี :'))\n",
    "\n",
    "if dinner_sum > 9000:\n",
    "    print('30% discount')\n",
    "    discount += 0.30\n",
    "    if credit_card: discount+=0.05 ; print('credit card discount 5%')\n",
    "    dinner4_price = dinner4 - (dinner4*discount)\n",
    "elif dinner_sum > 4000:\n",
    "    print('25% discount')\n",
    "    discount += 0.25\n",
    "    if credit_card: discount+=0.05 ; print('credit card discount 5%')\n",
    "    dinner4_price = dinner4 - (dinner4*discount)\n",
    "print('Total price :',dinner4_price)"
   ]
  },
  {
   "cell_type": "code",
   "execution_count": 26,
   "metadata": {},
   "outputs": [
    {
     "name": "stdout",
     "output_type": "stream",
     "text": [
      "at least 7 letters :TangKwa\n",
      "t\n",
      "A\n",
      "N\n",
      "G\n",
      "k\n",
      "W\n",
      "A\n"
     ]
    }
   ],
   "source": [
    "#Quiz_11\n",
    "word = input('at least 7 letters :')\n",
    "for i in word:\n",
    "    upper = i.isupper()\n",
    "    lower = i.islower()\n",
    "    if upper:\n",
    "        print(i.lower())\n",
    "    elif lower:\n",
    "        i.upper()\n",
    "        print(i.upper())\n",
    "    "
   ]
  },
  {
   "cell_type": "code",
   "execution_count": 6,
   "metadata": {},
   "outputs": [
    {
     "name": "stdout",
     "output_type": "stream",
     "text": [
      "sdsdfsdf\n",
      "sdfsdfs\n",
      "sdfsf\n",
      "sdfs\n",
      "['sdsdfsdf', 'sdfsdfs', 'sdfsf', 'sdfs']\n",
      "['sdfs', 'sdfsf', 'sdfsdfs', 'sdsdfsdf']\n"
     ]
    }
   ],
   "source": [
    "#Quiz_12\n",
    "string = []\n",
    "for x in range(0,4):\n",
    "    string.append(input())\n",
    "print(string)\n",
    "string.sort(key = len)\n",
    "print(string)"
   ]
  },
  {
   "cell_type": "code",
   "execution_count": 8,
   "metadata": {},
   "outputs": [
    {
     "name": "stdout",
     "output_type": "stream",
     "text": [
      "Hour : 3\n",
      "min : 5\n",
      "price :  460\n"
     ]
    }
   ],
   "source": [
    "#Quiz_13\n",
    "hour = int(input('Hour : '))\n",
    "minute = int(input('min : '))\n",
    "    \n",
    "price = (hour*150)+(minute*2)\n",
    "print(\"price : \",price)"
   ]
  },
  {
   "cell_type": "code",
   "execution_count": 17,
   "metadata": {},
   "outputs": [
    {
     "name": "stdout",
     "output_type": "stream",
     "text": [
      "Hour : 6\n",
      "min : 7\n",
      "307\n",
      "Price : 1500\n"
     ]
    }
   ],
   "source": [
    "#Quiz_14\n",
    "hour = int(input('Hour : '))\n",
    "minute = int(input('min : '))\n",
    "total = ((hour*60)+minute)-60\n",
    "print(total)\n",
    "if total < 60:\n",
    "    print('Free')\n",
    "else :\n",
    "    price = (total//60)\n",
    "    if total % 60 < 15:\n",
    "        pass\n",
    "    else : price+=1\n",
    "    price = price*300\n",
    "    print('Price :',price)"
   ]
  },
  {
   "cell_type": "code",
   "execution_count": 6,
   "metadata": {},
   "outputs": [
    {
     "name": "stdout",
     "output_type": "stream",
     "text": [
      "Total_animals :48\n",
      "Total_legs :134\n",
      "There are 29.0  chicken with 58.0 legs\n",
      "There are 19.0 cow with 76.0 legs\n"
     ]
    }
   ],
   "source": [
    "#Quiz_15\n",
    "total_animals = int(input('Total_animals :'))\n",
    "total_legs = int(input('Total_legs :'))\n",
    "while total_legs%2 != 0:\n",
    "    print('total leg must be even number')\n",
    "    total_legs = int(input('Total_legs :'))\n",
    "while total_animals*2 > total_legs < total_animals*4:\n",
    "    print('Please input the correct legs')\n",
    "    total_legs = int(input('Total_legs :'))\n",
    "\n",
    "cow = 1\n",
    "chicken = 1\n",
    "#1_(x*4)+(y*2) = total_legs\n",
    "#2_(x+y) = total_animals ---- (2)*2 =3\n",
    "#3_(x*2)+(y*2) = total_animals*2\n",
    "#4_[(1)-(3)]_ (x*2) = [total_legs - total_animals*2]\n",
    "answer = total_legs - total_animals*2\n",
    "cow = answer/2\n",
    "chicken = total_animals - cow\n",
    "print('There are',chicken,' chicken with',chicken*2,'legs')\n",
    "print('There are', cow,'cow with',cow*4,'legs')"
   ]
  }
 ],
 "metadata": {
  "kernelspec": {
   "display_name": "Python 3",
   "language": "python",
   "name": "python3"
  },
  "language_info": {
   "codemirror_mode": {
    "name": "ipython",
    "version": 3
   },
   "file_extension": ".py",
   "mimetype": "text/x-python",
   "name": "python",
   "nbconvert_exporter": "python",
   "pygments_lexer": "ipython3",
   "version": "3.7.4"
  }
 },
 "nbformat": 4,
 "nbformat_minor": 2
}
