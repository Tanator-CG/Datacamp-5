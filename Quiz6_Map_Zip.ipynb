{
 "cells": [
  {
   "cell_type": "code",
   "execution_count": 2,
   "metadata": {},
   "outputs": [
    {
     "name": "stdout",
     "output_type": "stream",
     "text": [
      "[2, 9, 1, 81, 32]\n"
     ]
    }
   ],
   "source": [
    "#Quiz_Map\n",
    "A = [1,2,3,4,5]\n",
    "B = [2,3,1,3,2]\n",
    "result = map(lambda x,y: y**x, A, B)\n",
    "print(list(result))"
   ]
  },
  {
   "cell_type": "code",
   "execution_count": 3,
   "metadata": {},
   "outputs": [
    {
     "name": "stdout",
     "output_type": "stream",
     "text": [
      "[('Waann', 1, 20), ('Seto', 2, 70), ('Takeda_Rena', 3, 80)]\n"
     ]
    }
   ],
   "source": [
    "#Quiz_Zip\n",
    "#(Name , Number, Final-exam_score)\n",
    "Name = [\"Waann\", \"Seto\", \"Takeda_Rena\"]\n",
    "Number = [1,2,3]\n",
    "Final_exam = [20,70,80]\n",
    "output = list(zip(Name, Number, Final_exam))\n",
    "print(output)"
   ]
  }
 ],
 "metadata": {
  "kernelspec": {
   "display_name": "Python 3",
   "language": "python",
   "name": "python3"
  },
  "language_info": {
   "codemirror_mode": {
    "name": "ipython",
    "version": 3
   },
   "file_extension": ".py",
   "mimetype": "text/x-python",
   "name": "python",
   "nbconvert_exporter": "python",
   "pygments_lexer": "ipython3",
   "version": "3.7.4"
  }
 },
 "nbformat": 4,
 "nbformat_minor": 2
}
