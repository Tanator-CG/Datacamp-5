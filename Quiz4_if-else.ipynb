{
 "cells": [
  {
   "cell_type": "code",
   "execution_count": 3,
   "metadata": {},
   "outputs": [
    {
     "name": "stdout",
     "output_type": "stream",
     "text": [
      "57\n",
      "Grade D\n"
     ]
    }
   ],
   "source": [
    "#Quiz_if-else\n",
    "student_grade = int(input())\n",
    "if student_grade >= 80: print('Grade A')\n",
    "elif student_grade >= 70: print('Geade B')\n",
    "elif student_grade >= 60: print('Grade C')\n",
    "elif student_grade >= 50: print('Grade D')\n",
    "else : print('Grade F')"
   ]
  }
 ],
 "metadata": {
  "kernelspec": {
   "display_name": "Python 3",
   "language": "python",
   "name": "python3"
  },
  "language_info": {
   "codemirror_mode": {
    "name": "ipython",
    "version": 3
   },
   "file_extension": ".py",
   "mimetype": "text/x-python",
   "name": "python",
   "nbconvert_exporter": "python",
   "pygments_lexer": "ipython3",
   "version": "3.7.4"
  }
 },
 "nbformat": 4,
 "nbformat_minor": 2
}
